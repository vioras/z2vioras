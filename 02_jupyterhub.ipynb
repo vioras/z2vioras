{
 "cells": [
  {
   "cell_type": "markdown",
   "id": "f8f2da2f-0d3a-4a99-85ee-818b1b91634e",
   "metadata": {},
   "source": [
    "# VIORAS JupyterHubへの接続と終了\n",
    "\n",
    "ここでは、WebブラウザからVIORASのJupyterHubに接続し、\n",
    "VIORASがサービス提供しているChatGPT (Jupyter AI Chat) を使ってPythonのプログラミングを自習する手順を説明します。"
   ]
  },
  {
   "cell_type": "markdown",
   "id": "ceabcdb3-7b48-4270-a99c-ad0fc67d8024",
   "metadata": {},
   "source": [
    "```{note}\n",
    "\"Jupiter\" のミス・スペルではありません\n",
    "Jupyterの名前は、主にサポートしている3つのプログラミング言語、Julia、Python、そしてRから取られています。\n",
    "```"
   ]
  },
  {
   "cell_type": "markdown",
   "id": "970bf9b2-0c02-4fca-8903-60601d836e84",
   "metadata": {
    "jp-MarkdownHeadingCollapsed": true
   },
   "source": [
    "## VIORAS JupyterHubの主な特徴\n",
    "\n",
    "1. 最新のPythonとJuliaによる対話的なプログラミング (今のところRはサポートしていません)\n",
    "2. Language Server Protocolによるプログラミング支援\n",
    "3. Jupyter AIによるChatGPTとの対話機能\n",
    "4. MyST Markdownによる書式整形\n",
    "5. Azure Storageによるオブジェクト・ストレージ"
   ]
  },
  {
   "cell_type": "markdown",
   "id": "c43cea8f-c1fa-4bd4-aa5f-d9dadb0b6c68",
   "metadata": {},
   "source": [
    "## VIORAS JupyterHubに接続する"
   ]
  },
  {
   "cell_type": "markdown",
   "id": "c1192864-3070-4e0d-a5e6-eb6fe6e2cc2b",
   "metadata": {},
   "source": [
    "Webブラウザから [https://ecsosaka-jh2300.japaneast.cloudapp.azure.com/](https://ecsosaka-jh2300.japaneast.cloudapp.azure.com/) にアクセスするとVIORAS JupyterHubに接続し、\n",
    "認証を促す \"Sign in with Azure AD\" というボタンが表示されます。\n",
    "ボタンを押すと、Microsoftのサインイン画面に遷移するので、\n",
    "OUMailアカウントで多要素認証を行ってください。\n",
    "\n",
    "1. OUMailアカウントのユーザ名とパスワードを入力すると2桁の数字コードが表示される\n",
    "2. 連携しているスマートフォンのAuthenticatorアプリがコード入力を促す画面に遷移しているので、表示された2桁の数字コードを入力する"
   ]
  },
  {
   "cell_type": "markdown",
   "id": "b8494af4-ef3c-4456-b34f-be107133fc90",
   "metadata": {},
   "source": [
    "```{figure} ./02_jupyterhub_files/6dc02429-990b-42f7-b9d4-da224176870e.png\n",
    "```"
   ]
  },
  {
   "cell_type": "markdown",
   "id": "0172e768-5275-484f-aad0-32757aef754a",
   "metadata": {},
   "source": [
    "```{figure} ./02_jupyterhub_files/60fbc332-db73-4ab9-8dda-0f31efacd338.png\n",
    "```"
   ]
  },
  {
   "cell_type": "markdown",
   "id": "58676440-aeb2-4f3e-bf66-862afddf4863",
   "metadata": {},
   "source": [
    "## VIORAS JupyterHubを終了する"
   ]
  },
  {
   "cell_type": "markdown",
   "id": "36dba97b-bd47-4ff6-9a37-3cf3b2a84e38",
   "metadata": {},
   "source": [
    "JupyterHubを終了するには、FileメニューからLog Outを選択してください。\n",
    "\n",
    "この操作は、Jupyterが動作しているサーバを停止していませんので、直後であればセッションに再接続して作業を再開することができます。\n",
    "ただし、無操作状態が続くとサーバは自動停止します (一時間くらい)。それ以降に再接続すると改めてサーバが起動し、新しいセッションが開始されます。"
   ]
  },
  {
   "cell_type": "markdown",
   "id": "f2352378-c314-4ecd-90e1-5da9a5531041",
   "metadata": {},
   "source": [
    "```{figure} ./02_jupyterhub_files/6ef9043b-5230-4916-9398-4d157beae1fd.png\n",
    "```"
   ]
  },
  {
   "cell_type": "markdown",
   "id": "65e2d2cf-3d36-4a54-bcf9-ae047357e7c6",
   "metadata": {},
   "source": [
    "## ファイルブラウザをJupyter AI Chatに切り替える"
   ]
  },
  {
   "cell_type": "markdown",
   "id": "ea4c29c3-2d26-447e-aad7-e512efed6fab",
   "metadata": {},
   "source": [
    "VIORASは、標準的なJupyterLabに対して多くの機能拡張を行っています。\n",
    "最も最新の機能拡張はJupyter AIで、VIORASではユーザ登録をしなくてもChatGPT (GPT-4/32,200コンテキスト) を使うことができます。"
   ]
  },
  {
   "cell_type": "markdown",
   "id": "e9d6508f-987f-482a-86ac-ea3885884b3a",
   "metadata": {},
   "source": [
    "標準では「ファイルブラウザ」が有効になっています。"
   ]
  },
  {
   "cell_type": "markdown",
   "id": "8d7ee3ac-b8a6-47e9-ad36-15236c7e7b08",
   "metadata": {
    "jp-MarkdownHeadingCollapsed": true
   },
   "source": [
    "```{figure} ./02_jupyterhub_files/7bf50787-6c80-4ebb-a0ae-cba0fa91b7cc.png\n",
    "```"
   ]
  },
  {
   "cell_type": "markdown",
   "id": "f3df3f5c-3868-4a64-9191-aea49f53a7cb",
   "metadata": {},
   "source": [
    "左サイドバーの縦アイコン列からチャットマークを選択すると、左サイドバーがJupyter AI Chatに切り替わり、ChatGPTとの対話が可能になります。"
   ]
  },
  {
   "cell_type": "markdown",
   "id": "668a0590-47e7-46dd-8249-46e89a8a6bc7",
   "metadata": {},
   "source": [
    "```{figure} ./02_jupyterhub_files/d862fa39-dea4-4d01-a584-0b14760d69ac.png\n",
    "```"
   ]
  },
  {
   "cell_type": "markdown",
   "id": "ce7ebc5d-1452-44b2-8112-f5f8b64d702a",
   "metadata": {},
   "source": [
    "## ChatGPTを家庭教師にして自習する"
   ]
  },
  {
   "cell_type": "markdown",
   "id": "4100561e-4cfd-4d78-b097-89465ade939e",
   "metadata": {},
   "source": [
    "例えば次のように入力してJupyterでのプログラミングを初めてください。\n",
    "これらの入力をプロンプトとよび、ChatGPTからの答えをレスポンスといいます。"
   ]
  },
  {
   "cell_type": "markdown",
   "id": "25fdb87c-35f6-4320-93ba-cff026c2f0df",
   "metadata": {},
   "source": [
    "1. 「JupyterHubにログインしました。JupyterLabが起動しているそうです。」\n",
    "1. 「今からPythonで初歩的なプログラミングをしてみたいと思います。操作手順をステップバイステップで教えてください。」\n",
    "    - 「ランチャーとは何ですか？」\n",
    "    - 「ファイルブラウザーとは何ですか？」\n",
    "1. 「ノートブックに名前を付けて保存して、ダウンロードする手順を教えてください。」"
   ]
  },
  {
   "cell_type": "markdown",
   "id": "a40eface-f493-49dd-998a-0b6785dc74d4",
   "metadata": {},
   "source": [
    "```{note}\n",
    "\"Jupyternaut\"は、\n",
    "JupyterLabから利用できる会話型のアシスタントの名前です。\n",
    "ここで紹介した方法で問い合わせをすることができますが、会話は保存されないことに注意してください。\n",
    "```"
   ]
  },
  {
   "cell_type": "markdown",
   "id": "bf4909ef-8747-4b53-b3ba-6aa3049f29ac",
   "metadata": {},
   "source": [
    "```{note}\n",
    "VIORAS JupyterHubはOUMailアカウントで認証していますが、\n",
    "Jupyterシステム上は\"jovyan\"という匿名のユーザ名に対応づけられています。\n",
    "\"Jovian\"（木星の、木星に関する、という意味）から来ており、\n",
    "Jupyterプロジェクトの天文学へのオマージュを反映しています。\n",
    "スペルが違いますが、利用中に意識することはないでしょう。\n",
    "```"
   ]
  },
  {
   "cell_type": "code",
   "execution_count": null,
   "id": "9ce8da76-5275-406f-8271-b110d825d646",
   "metadata": {},
   "outputs": [],
   "source": []
  }
 ],
 "metadata": {
  "kernelspec": {
   "display_name": "Python 3 (ipykernel)",
   "language": "python",
   "name": "python3"
  },
  "language_info": {
   "codemirror_mode": {
    "name": "ipython",
    "version": 3
   },
   "file_extension": ".py",
   "mimetype": "text/x-python",
   "name": "python",
   "nbconvert_exporter": "python",
   "pygments_lexer": "ipython3",
   "version": "3.11.5"
  }
 },
 "nbformat": 4,
 "nbformat_minor": 5
}
