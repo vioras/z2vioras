{
 "cells": [
  {
   "cell_type": "markdown",
   "id": "84ae8b90-c247-4cbf-8b0e-849a2c6a7b92",
   "metadata": {},
   "source": [
    "# 情報処理教育システムでのプログラミング学習環境"
   ]
  },
  {
   "cell_type": "markdown",
   "id": "3e1b064c-7899-4877-82ab-a58f8fb29ce2",
   "metadata": {},
   "source": [
    "2024年度版学生用"
   ]
  },
  {
   "cell_type": "markdown",
   "id": "87654777-be69-4f32-86e0-bbbfc8b3a323",
   "metadata": {},
   "source": [
    "情報処理教育システムでは、主に二つのプログラミング学習環境を提供しています。\n",
    "\n",
    "1. Windows仮想デスクトップ・サービスのAnaconda Navigator\n",
    "1. VIORAS JupyterHub\n",
    "\n",
    "いずれでもJupyterと呼ばれるプログラミング学習環境が利用できます。"
   ]
  },
  {
   "cell_type": "markdown",
   "id": "7d8c1dd5-34f5-477e-b431-e07a7ed34078",
   "metadata": {},
   "source": [
    "## Jupyterとは\n",
    "\n",
    "Jupyterは、三つのプログラミング言語Julia、Python、Rの頭文字を取って名付けられたプログラミング環境です。\n",
    "\n",
    "* [Julia (programming language) - Wikipedia](https://en.wikipedia.org/wiki/Julia_(programming_language))\n",
    "* [Python (programming language) - Wikipedia](https://en.wikipedia.org/wiki/Python_(programming_language))\n",
    "* [R (programming language) - Wikipedia](https://en.wikipedia.org/wiki/R_(programming_language))\n",
    "\n",
    "具体的には、Jupyter Notebookというファイル形式 (拡張子は`.ipynb`) の編集環境が提供され、\n",
    "Webブラウザベースのインタラクティブな環境でプログラムコードを書き、実行できます。\n",
    "\n",
    "Jupyterはテキスト、画像、数式、グラフなどを一緒に表示できるため、\n",
    "データ分析や機械学習、教育など様々な場面で利用されています。\n",
    "また、Markdown記法やLaTeXを使った数式の記述もサポートしており、\n",
    "コードと並行して説明文を書くことも可能です。\n",
    "\n",
    "Jupyter Notebookはセルと呼ばれる単位でコードを書き、\n",
    "それぞれのセルを個別に実行できます。\n",
    "これにより、一部のコードを変更した場合でも全体を実行しなおす必要がなく、\n",
    "対話的なデータ分析や開発が可能になります。"
   ]
  },
  {
   "cell_type": "markdown",
   "id": "ba0301b4-c09a-461f-a701-243503e29eab",
   "metadata": {},
   "source": [
    "## Windows仮想デスクトップ・サービス"
   ]
  },
  {
   "cell_type": "markdown",
   "id": "8dbe749f-4d61-4e41-afb0-b705442820cc",
   "metadata": {},
   "source": [
    "Anaconda Navigatorの使い方は、別の資料をご参照ください。"
   ]
  },
  {
   "cell_type": "markdown",
   "id": "ef8ab273-8c7a-4dab-9c36-513620176e14",
   "metadata": {},
   "source": [
    "## VIORAS JupyterHub"
   ]
  },
  {
   "cell_type": "markdown",
   "id": "001ef4ec-bd50-404f-bec2-10aee0079cab",
   "metadata": {},
   "source": [
    "VIORAS JupyterHubは、OUMailアカウント保持者がアクセスできるWebサービスです。\n",
    "多要素認証が通ると、Jupyterプログラミング環境を利用できます。\n",
    "\n",
    "接続しているのは、Windows仮想デスクトップ・サービスとは全く異なるLinuxサーバです。\n",
    "システムの制約から、OneDriveなどのファイル共有機能は提供されませんが、\n",
    "ホームディレクトリの内容は永続的に保持されていて、2023年10月からの設定では、4GBを使うことができます。\n",
    "Webブラウザが稼働しているローカルマシンとのファイル交換機能が提供されています。"
   ]
  },
  {
   "cell_type": "markdown",
   "id": "8665aec1-28ae-43b4-9e21-1c423300484d",
   "metadata": {},
   "source": [
    "```{figure} ./01_jupyter_files/c10eee0b-8fd2-49bc-856d-c8d754d009f1.png\n",
    ":width: 90%\n",
    ":align: left\n",
    "Windows仮想デスクトップ・サービスとVIORAS JupyterHubの構成\n",
    "```"
   ]
  }
 ],
 "metadata": {
  "kernelspec": {
   "display_name": "Python 3 (ipykernel)",
   "language": "python",
   "name": "python3"
  },
  "language_info": {
   "codemirror_mode": {
    "name": "ipython",
    "version": 3
   },
   "file_extension": ".py",
   "mimetype": "text/x-python",
   "name": "python",
   "nbconvert_exporter": "python",
   "pygments_lexer": "ipython3",
   "version": "3.11.5"
  }
 },
 "nbformat": 4,
 "nbformat_minor": 5
}
