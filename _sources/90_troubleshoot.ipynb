{
 "cells": [
  {
   "cell_type": "markdown",
   "id": "f28c6e21-f035-4cc5-93f9-c3469ceafc55",
   "metadata": {},
   "source": [
    "# トラブルシュート"
   ]
  },
  {
   "cell_type": "markdown",
   "id": "2a719062-bae9-49de-98e6-113ebe01c811",
   "metadata": {},
   "source": [
    "## 認証に関連したトラブル"
   ]
  },
  {
   "cell_type": "markdown",
   "id": "a8eb4a46-f5f9-4b44-b3a8-97e0c1399a33",
   "metadata": {},
   "source": [
    "(auth_azure)=\n",
    "### OUMailアカウントの情報確認"
   ]
  },
  {
   "cell_type": "markdown",
   "id": "207c9064-cd63-404d-9399-8b57b3750442",
   "metadata": {},
   "source": [
    "VIORAS JupyterHubでは、\n",
    "OUMailアカウントによる多要素認証によって利用を認可しています。\n",
    "\n",
    "選択しているWebブラウザのウィンドウが保持しているセッションがOUMailアカウントによって認証された状態にあるかを確認するには、\n",
    "Microsoft My Account\n",
    "([https://myaccount.microsoft.com/](https://myaccount.microsoft.com/))\n",
    "をアクセスし、\n",
    "セッションが保持しているアカウント情報を確認してください。\n",
    "% Microsoft Azure Portal \n",
    "% ([https://portal.azure.com/](https://portal.azure.com/))"
   ]
  },
  {
   "cell_type": "markdown",
   "id": "da312c7f-f6f4-4032-b256-a226e3a0d971",
   "metadata": {},
   "source": [
    "```{figure} ./90_troubleshoot_files/b3332c67-e871-4f8e-aba8-cc81012d02c2.png\n",
    "```"
   ]
  },
  {
   "cell_type": "markdown",
   "id": "4e5068e7-4e51-4704-b25f-878790861dbd",
   "metadata": {},
   "source": [
    "```{warning}\n",
    "Webブラウザはウィンドウ毎に異なるセッション情報を保持している場合があります!\n",
    "アカウント情報の確認は、同じウィンドウのタブで行ってください。\n",
    "どうしても認証が上手く行かない場合は、プライベート・ウィンドウで試行するか、\n",
    "もしくは、Webブラウザを再起動することをお勧めします。\n",
    "プライベート・ウィンドウの使い方は、\n",
    "Jupyternautに「Webブラウザのプライベート・ウィンドウの使い方を紹介してください」と尋ねてみてください。\n",
    "```"
   ]
  },
  {
   "cell_type": "markdown",
   "id": "3c7ce33e-b580-4161-a0d7-f47765065925",
   "metadata": {},
   "source": [
    "もし、自身のOUMailアカウント以外の情報が表示されている場合は、\n",
    "右上のボタンをクリックして表示されるプルダウンから「サインアウト」を選択し、\n",
    "サインアウトするアカウントを選択した後、\n",
    "適切なカウントを改めて選択し直して多要素認証を行ってください。"
   ]
  },
  {
   "cell_type": "markdown",
   "id": "4004765a-f4fa-4718-8fc0-0006d081ad7d",
   "metadata": {},
   "source": [
    "```{figure} ./90_troubleshoot_files/c849e3a5-fedc-41b9-b611-c128a23609b3.png\n",
    "```"
   ]
  },
  {
   "cell_type": "markdown",
   "id": "694c2e23-f24c-4711-8ebf-68d8a7c01d75",
   "metadata": {},
   "source": [
    "```{figure} ./90_troubleshoot_files/b8ba94e3-2298-483e-9271-13a1c651b7b9.png\n",
    "```"
   ]
  },
  {
   "cell_type": "markdown",
   "id": "bbeea0cc-cb4b-4436-bd91-af25a76df6e2",
   "metadata": {},
   "source": [
    "```{figure} ./90_troubleshoot_files/e78a07ae-016b-48e5-afb3-31668b9b6148.png\n",
    "```"
   ]
  },
  {
   "cell_type": "markdown",
   "id": "6c0b81c2-ed6b-44f6-9b0f-a6fc2ef219aa",
   "metadata": {},
   "source": [
    "### VIORAS JupyterHubでのアカウント情報確認"
   ]
  },
  {
   "cell_type": "markdown",
   "id": "9452c825-e04f-40f1-b30d-1fa9caf1806c",
   "metadata": {},
   "source": [
    "VIORAS JupyterHubに接続し、サーバを起動するとJupyterLabウィンドウが表示されます。\n",
    "左上、Fileメニューの下から2番目に `Hub Control Panel` という選択肢が表示されます。"
   ]
  },
  {
   "cell_type": "markdown",
   "id": "1efcd494-0198-4a99-85e1-1a45a7537628",
   "metadata": {},
   "source": [
    "```{figure} ./90_troubleshoot_files/0f73e64a-b8aa-44c5-b0fa-c114d0358277.png\n",
    "```"
   ]
  },
  {
   "cell_type": "markdown",
   "id": "71fd5c79-c22c-4d91-b562-ab85221179c7",
   "metadata": {},
   "source": [
    "これを選択すると、次のようなHub Control Panelが表示されます。"
   ]
  },
  {
   "cell_type": "markdown",
   "id": "aad0cf56-83f8-4c2a-826d-47b6fd2cb60c",
   "metadata": {},
   "source": [
    "```{figure} ./90_troubleshoot_files/4e605bee-789a-473f-9c22-66d868ee713c.png\n",
    "```"
   ]
  },
  {
   "cell_type": "markdown",
   "id": "0854ca48-e735-4762-ba69-7123851b3de0",
   "metadata": {},
   "source": [
    "右上に、認証中のOUMailアカウントが表示されます。\n",
    "`Logout` ボタンがありますが、\n",
    "導入システムの制約からOUMailアカウントをログアウトするような連携ができていませんので、\n",
    "{ref}`OUMailアカウントの情報確認<auth_azure>`\n",
    "を参照してください。"
   ]
  },
  {
   "cell_type": "markdown",
   "id": "ae3c00ac-694f-45e1-8284-c9759ae435af",
   "metadata": {},
   "source": [
    "## サーバ起動に関連したトラブル"
   ]
  },
  {
   "cell_type": "markdown",
   "id": "1957d917",
   "metadata": {},
   "source": [
    "__2024年度は複数のサーバから選択する必要はありません。__"
   ]
  },
  {
   "cell_type": "markdown",
   "id": "2e5185ed-3702-42e1-9eb3-e2fc00a1b6fc",
   "metadata": {},
   "source": [
    "### Hub Control Panelによるサーバ選択のやり直し"
   ]
  },
  {
   "cell_type": "markdown",
   "id": "594a4868-6097-4ecc-af52-6a53b478f34a",
   "metadata": {},
   "source": [
    "2023年度秋冬学期から、システム更新に伴って、\n",
    "接続時にサーバを選択する必要が生じました。\n",
    "現在、提供されているのは次の2種類のサーバになります。\n",
    "\n",
    "1. `default`\n",
    "    - Pythonのみ使える\n",
    "1. `w/julia`\n",
    "    - PythonとJuliaが使える"
   ]
  },
  {
   "cell_type": "markdown",
   "id": "4039f48f-62d5-476b-914e-187019ac9654",
   "metadata": {},
   "source": [
    "Juliaを使いたい場合は、二つ目のチェックボックスを選択し直します。\n",
    "一番下の`Start`ボタンを押すとサーバが起動します。"
   ]
  },
  {
   "cell_type": "markdown",
   "id": "14f0fbfe-dc36-435d-aed4-d0a607df5da1",
   "metadata": {},
   "source": [
    "Juliaを使いたいのに誤ってPythonのみのサーバを起動してしまった場合は、\n",
    "JupyterLab画面の左上のFileメニューの下から2番目のHub Control Panelを選択します。"
   ]
  },
  {
   "cell_type": "markdown",
   "id": "92ebec6f-9e7c-4e60-b7f4-d9d1e1816cb6",
   "metadata": {},
   "source": [
    "```{figure} ./90_troubleshoot_files/0f73e64a-b8aa-44c5-b0fa-c114d0358277.png\n",
    "```"
   ]
  },
  {
   "cell_type": "markdown",
   "id": "007956a5-e1ff-4e51-83b5-3d0b600b6601",
   "metadata": {},
   "source": [
    "赤い`Stop Server` ボタンを押して、しばらくすると、青い`Start My Server`のみが表示されるように遷移しますので、\n",
    "｀Start My Server` ボタンを押すと、サーバ選択画面に戻ります。"
   ]
  },
  {
   "cell_type": "markdown",
   "id": "92820ae4-ab74-405b-a60f-63d3b65dbddb",
   "metadata": {},
   "source": [
    "```{figure} ./90_troubleshoot_files/462e0834-1193-4b11-9cf1-cb02076b3b74.png\n",
    "```"
   ]
  },
  {
   "cell_type": "markdown",
   "id": "065cc33f-87bd-499a-94fd-0e4cb7e63051",
   "metadata": {},
   "source": [
    "```{figure} ./90_troubleshoot_files/d169514c-c016-4cd9-b841-2bb0b89c11ce.png\n",
    "```"
   ]
  },
  {
   "cell_type": "markdown",
   "id": "a80c844b-0c90-4c15-b306-aaf83947b8df",
   "metadata": {},
   "source": [
    "```{figure} ./90_troubleshoot_files/f1e648d3-64fc-4b99-b7b8-2ad91193f1ae.png\n",
    "```"
   ]
  }
 ],
 "metadata": {
  "kernelspec": {
   "display_name": "Python 3 (ipykernel)",
   "language": "python",
   "name": "python3"
  },
  "language_info": {
   "codemirror_mode": {
    "name": "ipython",
    "version": 3
   },
   "file_extension": ".py",
   "mimetype": "text/x-python",
   "name": "python",
   "nbconvert_exporter": "python",
   "pygments_lexer": "ipython3",
   "version": "3.11.5"
  }
 },
 "nbformat": 4,
 "nbformat_minor": 5
}
